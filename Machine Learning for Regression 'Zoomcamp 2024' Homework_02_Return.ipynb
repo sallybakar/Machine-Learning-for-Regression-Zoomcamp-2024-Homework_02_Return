{
 "cells": [
  {
   "cell_type": "markdown",
   "id": "506b9866-4ccf-462c-a6c3-ac73736cf71d",
   "metadata": {},
   "source": [
    "## Homework: 02\n",
    "The main task here is to develop a regression model to predict certain target variables using machine learning techniques. This involves exploring the dataset, preparing the data, selecting appropriate features, training the model, and evaluating its performance. The focus is on using regression analysis to understand and predict continuous outcomes.\n",
    "\n",
    "> Note: sometimes your answer doesn't match one of  \n",
    "> the options exactly. That's fine.  \n",
    "> Select the option that's closest to your solution."
   ]
  },
  {
   "cell_type": "markdown",
   "id": "77d14ace-a011-4b82-8ae1-ddc2da853ee6",
   "metadata": {},
   "source": [
    "### Dataset\r\n",
    "\r\n",
    "In this homework, we will use the Laptops price dataset from [Kaggle](https://www.kaggle.com/datasets/juanmerinobermejo/laptops-price-dataset).\r\n",
    "\r\n",
    "Here's a wget-able [link](https://raw.githubusercontent.com/alexeygrigorev/datasets/master/laptops.csv):\r\n",
    "\r\n",
    "```bash\r\n",
    "wget https://raw.githubusercontent.com/alexeygrigorev/datasets/master/laptops.csv\r\n",
    "```\r\n",
    "\r\n",
    "The goal of this homework is to create a regression model for predicting the prices (column `'Final Price'`)."
   ]
  },
  {
   "cell_type": "code",
   "execution_count": 1,
   "id": "0086d1a5-04b0-49fc-bf5a-2394a046c7a7",
   "metadata": {},
   "outputs": [
    {
     "name": "stdout",
     "output_type": "stream",
     "text": [
      "File downloaded successfully at /home/awsl/ML_Zoomcamp_2024_Modules/data/laptops.csv\n"
     ]
    }
   ],
   "source": [
    "import os # (Use Python’s \"os.makedirs\" function to create the directory since it doesn't exist yet.)\n",
    "import requests #(Use Python's requests library as an Alternative to download the file because this environment doesn't support \"wget\")\n",
    "\n",
    "# URL of the file to be downloaded\n",
    "url = \"https://raw.githubusercontent.com/alexeygrigorev/datasets/master/laptops.csv\"\n",
    "\n",
    "# Path where the file will be saved\n",
    "file_path = '/home/awsl/ML_Zoomcamp_2024_Modules/data/laptops.csv'\n",
    "\n",
    "# Ensure the directory exists, create it if necessary\n",
    "os.makedirs(os.path.dirname(file_path), exist_ok=True)\n",
    "\n",
    "# Download the file using requests\n",
    "response = requests.get(url)\n",
    "\n",
    "# Write the content to a file\n",
    "with open(file_path, 'wb') as f:\n",
    "    f.write(response.content)\n",
    "\n",
    "print(f\"File downloaded successfully at {file_path}\")\n"
   ]
  },
  {
   "cell_type": "markdown",
   "id": "58fc0049-f885-4cdc-b524-1c7a2995cfee",
   "metadata": {},
   "source": [
    "### Preparing the dataset \n",
    "\n",
    "First, we'll normalize the names of the columns:\n",
    "\n",
    "```python\n",
    "df.columns = df.columns.str.lower().str.replace(' ', '_')\n",
    "```\n",
    "\n",
    "Now, instead of `'Final Price'`, we have `'final_price'`.\n",
    "\n",
    "Next, use only the following columns:\n",
    "\n",
    "* `'ram'`,\n",
    "* `'storage'`,\n",
    "* `'screen'`,\n",
    "* `'final_price'`"
   ]
  },
  {
   "cell_type": "code",
   "execution_count": 2,
   "id": "b4498a6f-c4af-4f81-a0ed-63de8cf11929",
   "metadata": {},
   "outputs": [],
   "source": [
    "# Import required modules.\n",
    "import numpy as np\n",
    "import pandas as pd\n",
    "import seaborn as sns\n",
    "import warnings\n",
    "warnings.simplefilter(action='ignore', category=FutureWarning)"
   ]
  },
  {
   "cell_type": "code",
   "execution_count": 3,
   "id": "dd36f0ca-5be4-4b46-97d3-91ba3408e861",
   "metadata": {},
   "outputs": [],
   "source": [
    "# Define the link to the data.\n",
    "df_link = '/home/awsl/ML_Zoomcamp_2024_Modules/data/laptops.csv'"
   ]
  },
  {
   "cell_type": "code",
   "execution_count": 5,
   "id": "d564b126-5f7e-4faf-9624-38998ea1cc4e",
   "metadata": {},
   "outputs": [],
   "source": [
    "data_need = pd.read_csv(df_link)"
   ]
  },
  {
   "cell_type": "code",
   "execution_count": 6,
   "id": "31bb6837-dd93-4a42-b3e0-0d5fe2802ffb",
   "metadata": {},
   "outputs": [],
   "source": [
    "# Prepare the dataset.\n",
    "data_need.columns = data_need.columns.str.lower().str.replace(' ', '_')"
   ]
  },
  {
   "cell_type": "code",
   "execution_count": 7,
   "id": "583e165c-c3b4-4e51-932d-1d3d9ead75ab",
   "metadata": {},
   "outputs": [],
   "source": [
    "# Subset the dataset.\n",
    "columns_need = ['ram', 'storage', 'screen', 'final_price']\n",
    "\n",
    "data = data_need[columns_need]"
   ]
  },
  {
   "cell_type": "markdown",
   "id": "31697777-c062-46a9-9d2c-4b495f849ac0",
   "metadata": {},
   "source": [
    "### EDA\n",
    "\n",
    "* Look at the `final_price` variable. Does it have a long tail? "
   ]
  },
  {
   "cell_type": "code",
   "execution_count": 8,
   "id": "2cf59e72-5199-4ea1-bea3-fd6332e4b9d6",
   "metadata": {},
   "outputs": [
    {
     "data": {
      "image/png": "[encoded data removed]",
      "text/plain": [
       "<Figure size 640x480 with 1 Axes>"
      ]
     },
     "metadata": {},
     "output_type": "display_data"
    }
   ],
   "source": [
    "# Plot a histogram of the final_price.\n",
    "sns.histplot(data['final_price']);"
   ]
  },
  {
   "cell_type": "markdown",
   "id": "7fa8695e-78a2-4747-a6bb-88fc96243bae",
   "metadata": {},
   "source": [
    "Yes the `final_price` has a long tail."
   ]
  },
  {
   "cell_type": "markdown",
   "id": "e3f5131c-fba3-4bdb-95d0-62e06693654b",
   "metadata": {},
   "source": [
    "### Question 1\n",
    "\n",
    "There's one column with missing values. What is it?\n",
    "\n",
    "* `'ram'`\n",
    "* `'storage'`\n",
    "* `'screen'`\n",
    "* `'final_price'`"
   ]
  },
  {
   "cell_type": "code",
   "execution_count": 9,
   "id": "86fcbd09-5eaa-42a8-9adb-51d4404cc700",
   "metadata": {},
   "outputs": [
    {
     "data": {
      "text/plain": [
       "ram            0\n",
       "storage        0\n",
       "screen         4\n",
       "final_price    0\n",
       "dtype: int64"
      ]
     },
     "execution_count": 9,
     "metadata": {},
     "output_type": "execute_result"
    }
   ],
   "source": [
    "# Check for missing values in data\n",
    "data.isna().sum()"
   ]
  },
  {
   "cell_type": "markdown",
   "id": "6fe41532-2521-4931-a7a8-395b5101a85d",
   "metadata": {},
   "source": [
    "Question 1 Answer= 'screen'"
   ]
  },
  {
   "cell_type": "markdown",
   "id": "24ee7a82-5f8c-4e08-a409-a2e84bc05feb",
   "metadata": {},
   "source": [
    "### Question 2\n",
    "\n",
    "What's the median (50% percentile) for variable `'ram'`?\n",
    "\n",
    "- 8\n",
    "- 16\n",
    "- 24\n",
    "- 32"
   ]
  },
  {
   "cell_type": "code",
   "execution_count": 10,
   "id": "d749f9bc-a59b-43a3-b69f-6078b870eb5f",
   "metadata": {},
   "outputs": [
    {
     "data": {
      "text/plain": [
       "16.0"
      ]
     },
     "execution_count": 10,
     "metadata": {},
     "output_type": "execute_result"
    }
   ],
   "source": [
    "# Find the median for variable 'ram'.\n",
    "data['ram'].median()"
   ]
  },
  {
   "cell_type": "markdown",
   "id": "fcd0f9f9-1c72-4ef7-981f-f7bda4332e31",
   "metadata": {},
   "source": [
    "Question 2 Answer= 16"
   ]
  },
  {
   "cell_type": "markdown",
   "id": "82f7036a-9f78-4f5b-8f89-37575cdce769",
   "metadata": {},
   "source": [
    "### Prepare and split the dataset\n",
    "\n",
    "* Shuffle the dataset (the filtered one you created above), use seed `42`.\n",
    "* Split your data in train/val/test sets, with 60%/20%/20% distribution.\n",
    "\n",
    "Use the same code as in the lectures"
   ]
  },
  {
   "cell_type": "code",
   "execution_count": 13,
   "id": "d16fe1cd-91a1-41df-ae31-4d6274d250a0",
   "metadata": {},
   "outputs": [],
   "source": [
    "# Find the lengths of n_val, n_test, n_train.\n",
    "n = len(data)\n",
    "n_val = int(n * 0.2)\n",
    "n_test = int(n * 0.2)\n",
    "n_train = n - n_val - n_test"
   ]
  },
  {
   "cell_type": "code",
   "execution_count": 14,
   "id": "01ce5b38-4ccd-4f26-aa23-a3611996718b",
   "metadata": {},
   "outputs": [],
   "source": [
    "# Shuffle the indices.\n",
    "np.random.seed(42)\n",
    "idx = np.arange(n)\n",
    "np.random.shuffle(idx)"
   ]
  },
  {
   "cell_type": "code",
   "execution_count": 16,
   "id": "e2433ba7-0c4d-462d-8a65-369e5560e7ff",
   "metadata": {},
   "outputs": [],
   "source": [
    "# Derive data_train, data_val and data_test.\n",
    "data_train = data.iloc[idx[:n_train]]\n",
    "data_val = data.iloc[idx[n_train:n_train+n_val]]\n",
    "data_test = data.iloc[idx[n_train+n_val:]]"
   ]
  },
  {
   "cell_type": "code",
   "execution_count": 17,
   "id": "2aeb1d8d-8321-47a1-9e9e-d96b4fe45a1e",
   "metadata": {},
   "outputs": [
    {
     "data": {
      "text/plain": [
       "(1296, 432, 432)"
      ]
     },
     "execution_count": 17,
     "metadata": {},
     "output_type": "execute_result"
    }
   ],
   "source": [
    "# Show the lengths of data_train, data_val and data_test.\n",
    "len(data_train), len(data_val), len(data_test)"
   ]
  },
  {
   "cell_type": "code",
   "execution_count": 18,
   "id": "b4b61eb2-4700-4b11-b76c-529576d5686b",
   "metadata": {},
   "outputs": [],
   "source": [
    "# Drop the indices.\n",
    "data_train = data_train.reset_index(drop=True)\n",
    "data_val = data_val.reset_index(drop=True)\n",
    "data_test = data_test.reset_index(drop=True)"
   ]
  },
  {
   "cell_type": "code",
   "execution_count": 19,
   "id": "b1a00aa8-13c9-4d3f-b7fa-5fbd5bbef435",
   "metadata": {},
   "outputs": [],
   "source": [
    "# Derive y_train, y_val and y_test.\n",
    "y_train = data_train.final_price\n",
    "y_val = data_val.final_price\n",
    "y_test = data_test.final_price"
   ]
  },
  {
   "cell_type": "code",
   "execution_count": 20,
   "id": "485589b1-f408-493a-a364-e0ebd0adf8b6",
   "metadata": {},
   "outputs": [],
   "source": [
    "# Delete final_price from data_train, data_val and data_test.\n",
    "del data_train['final_price']\n",
    "del data_val['final_price']\n",
    "del data_test['final_price']"
   ]
  },
  {
   "cell_type": "markdown",
   "id": "7b6c3c84-42bb-4dfb-aa4e-e990bae480dc",
   "metadata": {},
   "source": [
    "### Question 3\r\n",
    "\r\n",
    "* We need to deal with missing values for the column from Q1.\r\n",
    "* We have two options: fill it with 0 or with the mean of this variable.\r\n",
    "* Try both options. For each, train a linear regression model without regularization using the code from the lessons.\r\n",
    "* For computing the mean, use the training only!\r\n",
    "* Use the validation dataset to evaluate the models and compare the RMSE of each option.\r\n",
    "* Round the RMSE scores to 2 decimal digits using `round(score, 2)`\r\n",
    "* Which option gives better RMSE?\r\n",
    "\r\n",
    "Options:\r\n",
    "\r\n",
    "- With 0\r\n",
    "- With mean\r\n",
    "- Both are equally good"
   ]
  },
  {
   "cell_type": "code",
   "execution_count": 21,
   "id": "067d2ca0-9d7c-4692-8032-a414e5df4989",
   "metadata": {},
   "outputs": [],
   "source": [
    "# Define train_linear function.\n",
    "def train_linear(X, y):\n",
    "    one = np.ones(X.shape[0])\n",
    "    X = np.column_stack([one, X])\n",
    "    XTX = X.T.dot(X)\n",
    "    XTX_inv = np.linalg.inv(XTX)\n",
    "    w_full = XTX_inv.dot(X.T).dot(y)\n",
    "    return w_full[0], w_full[1:]"
   ]
  },
  {
   "cell_type": "code",
   "execution_count": 22,
   "id": "76a595ec-e180-45d4-8f0e-1712e502bd4a",
   "metadata": {},
   "outputs": [],
   "source": [
    "# Define fill_with_zero function.\n",
    "def fill_with_zero(data):\n",
    "    data = data.fillna(0)\n",
    "    X = data.values\n",
    "    return X"
   ]
  },
  {
   "cell_type": "code",
   "execution_count": 28,
   "id": "9a655b59-cb58-4c3b-8092-a626016f5419",
   "metadata": {},
   "outputs": [],
   "source": [
    "# Define fill_with_mean function (Using only training data).\n",
    "mean_values = data_train.mean()\n",
    "mean_screen = mean_values['screen']\n",
    "\n",
    "def fill_with_mean(data):\n",
    "    data = data.fillna(mean_screen)\n",
    "    X = data.values\n",
    "    return X"
   ]
  },
  {
   "cell_type": "code",
   "execution_count": 29,
   "id": "f71b51b9-b71c-4b93-8eb0-446d5a024d1e",
   "metadata": {},
   "outputs": [],
   "source": [
    "# Defime the rmse_value function.\n",
    "def rmse_value(y, y_pred):\n",
    "    error = y - y_pred\n",
    "    se = error ** 2\n",
    "    mse = se.mean()\n",
    "    rmse_error = np.sqrt(mse)\n",
    "    return rmse_error"
   ]
  },
  {
   "cell_type": "code",
   "execution_count": 30,
   "id": "ba7747d0-e5c2-413d-8b47-c80b049fac4f",
   "metadata": {},
   "outputs": [
    {
     "data": {
      "text/plain": [
       "597.36356"
      ]
     },
     "execution_count": 30,
     "metadata": {},
     "output_type": "execute_result"
    }
   ],
   "source": [
    "# Find the RMSE for fill_with_zero.\n",
    "X_train = fill_with_zero(data_train)\n",
    "w0, w = train_linear(X_train, y_train)\n",
    "X_val = fill_with_zero(data_val)\n",
    "y_pred = w0 + X_val.dot(w)\n",
    "rmse_val = round(rmse_value(y_val, y_pred), 5)\n",
    "rmse_val"
   ]
  },
  {
   "cell_type": "code",
   "execution_count": 31,
   "id": "03475c58-f706-4532-97cc-2f1b99ef2c4d",
   "metadata": {},
   "outputs": [
    {
     "data": {
      "text/plain": [
       "600.26503"
      ]
     },
     "execution_count": 31,
     "metadata": {},
     "output_type": "execute_result"
    }
   ],
   "source": [
    "# Find the RMSE for fill_with_mean.\n",
    "X_train = fill_with_mean(data_train)\n",
    "w0, w = train_linear(X_train, y_train)\n",
    "X_val = fill_with_mean(data_val)\n",
    "y_pred = w0 + X_val.dot(w)\n",
    "rmse_val = round(rmse_value(y_val, y_pred), 5)\n",
    "rmse_val"
   ]
  },
  {
   "cell_type": "markdown",
   "id": "c57d6abb-103f-4186-8747-d68b4622082b",
   "metadata": {},
   "source": [
    "### Question 4\n",
    "\n",
    "* Now let's train a regularized linear regression.\n",
    "* For this question, fill the NAs with 0. \n",
    "* Try different values of `r` from this list: `[0, 0.01, 0.1, 1, 5, 10, 100]`.\n",
    "* Use RMSE to evaluate the model on the validation dataset.\n",
    "* Round the RMSE scores to 2 decimal digits.\n",
    "* Which `r` gives the best RMSE?\n",
    "\n",
    "If there are multiple options, select the smallest `r`.\n",
    "\n",
    "Options:\n",
    "\n",
    "- 0\n",
    "- 0.01\n",
    "- 1\n",
    "- 10\n",
    "- 100"
   ]
  },
  {
   "cell_type": "code",
   "execution_count": 32,
   "id": "b5a6f5ec-6d54-4abb-9ddf-606dd43e01a6",
   "metadata": {},
   "outputs": [],
   "source": [
    "# Define train_regularized function.\n",
    "def train_regularized(X, y, r):\n",
    "    one = np.ones(X.shape[0])\n",
    "    X = np.column_stack([one, X])\n",
    "    \n",
    "    XTX = X.T.dot(X)\n",
    "    XTX = XTX + r * np.eye(XTX.shape[0])\n",
    "    \n",
    "    XTX_inv = np.linalg.inv(XTX)\n",
    "    w_full = XTX_inv.dot(X.T).dot(y)\n",
    "    \n",
    "    return w_full[0], w_full[1:]"
   ]
  },
  {
   "cell_type": "code",
   "execution_count": 33,
   "id": "66c48b5f-36c4-4634-9651-635136bb4b85",
   "metadata": {},
   "outputs": [
    {
     "name": "stdout",
     "output_type": "stream",
     "text": [
      "regularization:0, bias:676.8954853003471, RMSE:597.36\n",
      "regularization:0.01, bias:676.2736817204672, RMSE:597.36\n",
      "regularization:0.1, bias:670.7284836313021, RMSE:597.35\n",
      "regularization:1, bias:619.9030834107807, RMSE:597.21\n",
      "regularization:5, bias:463.77716971415225, RMSE:597.01\n",
      "regularization:10, bias:352.79713367676436, RMSE:597.06\n",
      "regularization:100, bias:66.92071440180734, RMSE:597.90\n"
     ]
    }
   ],
   "source": [
    "#  Train a regularized linear regression with different r.\n",
    "for i in [0, 0.01, 0.1, 1, 5, 10, 100]:\n",
    "    \n",
    "    X_train = fill_with_zero(data_train)\n",
    "    w0, w = train_regularized(X_train, y_train, r=i)\n",
    "    \n",
    "    X_val = fill_with_zero(data_val)\n",
    "    y_pred = w0 + X_val.dot(w)\n",
    "    \n",
    "    score = rmse_value(y_val, y_pred)\n",
    "    \n",
    "    print(f\"regularization:{i}, bias:{w0}, RMSE:{score:.2f}\")"
   ]
  },
  {
   "cell_type": "markdown",
   "id": "80715f53-6b2b-4031-82ca-6a52d5938e74",
   "metadata": {},
   "source": [
    "Question 4 Answer= 10"
   ]
  },
  {
   "cell_type": "markdown",
   "id": "d8c66e21-0fc5-42b6-b746-f75c897e8461",
   "metadata": {},
   "source": [
    "### Question 5 \n",
    "\n",
    "* We used seed 42 for splitting the data. Let's find out how selecting the seed influences our score.\n",
    "* Try different seed values: `[0, 1, 2, 3, 4, 5, 6, 7, 8, 9]`.\n",
    "* For each seed, do the train/validation/test split with 60%/20%/20% distribution.\n",
    "* Fill the missing values with 0 and train a model without regularization.\n",
    "* For each seed, evaluate the model on the validation dataset and collect the RMSE scores. \n",
    "* What's the standard deviation of all the scores? To compute the standard deviation, use `np.std`.\n",
    "* Round the result to 3 decimal digits (`round(std, 3)`)\n",
    "\n",
    "What's the value of std?\n",
    "\n",
    "- 19.176\n",
    "- 29.176\n",
    "- 39.176\n",
    "- 49.176\n",
    "\n",
    "> Note: Standard deviation shows how different the values are.\n",
    "> If it's low, then all values are approximately the same.\n",
    "> If it's high, the values are different. \n",
    "> If standard deviation of scores is low, then our model is *stable*."
   ]
  },
  {
   "cell_type": "code",
   "execution_count": 34,
   "id": "840b7e93-0150-447f-9128-49238d65c604",
   "metadata": {},
   "outputs": [],
   "source": [
    "#  Train a linear regression with different seeds.\n",
    "the_score = []\n",
    "\n",
    "for seed in [0, 1, 2, 3, 4, 5, 6, 7, 8, 9]:\n",
    "    np.random.seed(seed)\n",
    "    \n",
    "    idx = np.arange(n)\n",
    "    np.random.shuffle(idx)\n",
    "    \n",
    "    data_train = data.iloc[idx[:n_train]].reset_index(drop=True)\n",
    "    data_val = data.iloc[idx[n_train:n_train+n_val]].reset_index(drop=True)\n",
    "    data_test = data.iloc[idx[n_train+n_val:]].reset_index(drop=True)\n",
    "    \n",
    "    y_train = data_train.final_price.values\n",
    "    y_val = data_val.final_price.values\n",
    "    \n",
    "    data_train = data_train.drop('final_price', axis=1)\n",
    "    data_val = data_val.drop('final_price', axis=1)\n",
    "    \n",
    "    X_train = fill_with_zero(data_train)\n",
    "    w0, w = train_linear(X_train, y_train)\n",
    "\n",
    "    X_val = fill_with_zero(data_val)\n",
    "    y_pred = w0 + X_val.dot(w)\n",
    "    rmse_val = rmse_value(y_val, y_pred)\n",
    "    the_score.append(rmse_val)"
   ]
  },
  {
   "cell_type": "code",
   "execution_count": 35,
   "id": "fad853b1-c31b-4d33-a029-6af24f18fb34",
   "metadata": {},
   "outputs": [
    {
     "data": {
      "text/plain": [
       "29.176"
      ]
     },
     "execution_count": 35,
     "metadata": {},
     "output_type": "execute_result"
    }
   ],
   "source": [
    "# Find the standard deviation of the score.\n",
    "the_std = round(np.std(the_score), 3)\n",
    "the_std"
   ]
  },
  {
   "cell_type": "markdown",
   "id": "c6184b06-6f30-4bf9-8117-cfc9ad57bd9a",
   "metadata": {},
   "source": [
    "Question 5 Answer= 29.176"
   ]
  },
  {
   "cell_type": "markdown",
   "id": "ff05af49-12d1-4614-aaa5-aecbbea9c319",
   "metadata": {},
   "source": [
    "### Question 6\n",
    "\n",
    "* Split the dataset like previously, use seed 9.\n",
    "* Combine train and validation datasets.\n",
    "* Fill the missing values with 0 and train a model with `r=0.001`. \n",
    "* What's the RMSE on the test dataset?\n",
    "\n",
    "Options:\n",
    "\n",
    "- 598.60\n",
    "- 608.60\n",
    "- 618.60\n",
    "- 628.60"
   ]
  },
  {
   "cell_type": "code",
   "execution_count": 36,
   "id": "fd4d2ae7-f55c-4d23-bc80-12dda4da6ba7",
   "metadata": {},
   "outputs": [
    {
     "data": {
      "text/plain": [
       "608.61"
      ]
     },
     "execution_count": 36,
     "metadata": {},
     "output_type": "execute_result"
    }
   ],
   "source": [
    "np.random.seed(9)\n",
    "\n",
    "idx = np.arange(n)\n",
    "np.random.shuffle(idx)\n",
    "    \n",
    "data_train = data.iloc[idx[:n_train]].reset_index(drop=True)\n",
    "data_val = data.iloc[idx[n_train:n_train+n_val]].reset_index(drop=True)\n",
    "data_test = data.iloc[idx[n_train+n_val:]].reset_index(drop=True)\n",
    "\n",
    "# combine the train and validation dataset\n",
    "final_data = pd.concat([data_train, data_val]).reset_index(drop=True)\n",
    "\n",
    "y_final = final_data['final_price']\n",
    "y_test = data_test.final_price.values\n",
    "    \n",
    "train_data = final_data.drop('final_price', axis=1)\n",
    "test_data = data_test.drop('final_price', axis=1)\n",
    "    \n",
    "X_train = fill_with_zero(train_data)\n",
    "w0, w = train_regularized(X_train, y_final, r=0.001)\n",
    "\n",
    "X_test = fill_with_zero(test_data)\n",
    "y_pred = w0 + X_test.dot(w)\n",
    "rmse_val = round(rmse_value(y_test, y_pred), 2)\n",
    "rmse_val"
   ]
  },
  {
   "cell_type": "markdown",
   "id": "3ed86c07-7268-409b-b013-0f957de2127d",
   "metadata": {},
   "source": [
    "Question 6 Answer= 608.60"
   ]
  },
  {
   "cell_type": "markdown",
   "id": "2c5ca1e9-efb3-41bc-a5de-aef99305b5d8",
   "metadata": {},
   "source": [
    "### Discussion:\n",
    "Throughout the task, various steps in the data science pipeline are discussed, including data cleaning, feature engineering, and model selection. Exploratory Data Analysis (EDA) is conducted to understand the data's structure and relationships between variables. Models are then trained and tuned to ensure they provide accurate and reliable predictions. Techniques such as cross-validation are applied to prevent overfitting and ensure the model's generalizability.\n",
    "\n",
    "In summary, the task concludes by evaluating the model's accuracy and effectiveness in predicting the target variable. The outcome demonstrates the strengths and limitations of the model, indicating areas where further refinement could enhance predictive accuracy."
   ]
  }
 ],
 "metadata": {
  "kernelspec": {
   "display_name": "Python 3 (ipykernel)",
   "language": "python",
   "name": "python3"
  },
  "language_info": {
   "codemirror_mode": {
    "name": "ipython",
    "version": 3
   },
   "file_extension": ".py",
   "mimetype": "text/x-python",
   "name": "python",
   "nbconvert_exporter": "python",
   "pygments_lexer": "ipython3",
   "version": "3.12.4"
  }
 },
 "nbformat": 4,
 "nbformat_minor": 5
}
